{
  "cells": [
    {
      "cell_type": "markdown",
      "metadata": {
        "id": "3KnBmVuRvtVd"
      },
      "source": [
        "# Mount drive and install packages"
      ]
    },
    {
      "cell_type": "code",
      "execution_count": 1,
      "metadata": {
        "id": "L8fjpfy0SQ4R"
      },
      "outputs": [],
      "source": [
        "from google.colab import drive"
      ]
    },
    {
      "cell_type": "code",
      "execution_count": 2,
      "metadata": {
        "colab": {
          "base_uri": "https://localhost:8080/"
        },
        "id": "nxuaxxkBSaIo",
        "outputId": "e24ec2a6-8e36-4134-be52-ff87973258e9"
      },
      "outputs": [
        {
          "output_type": "stream",
          "name": "stdout",
          "text": [
            "Mounted at /content/drive\n"
          ]
        }
      ],
      "source": [
        "drive.mount('/content/drive')"
      ]
    },
    {
      "cell_type": "code",
      "execution_count": 3,
      "metadata": {
        "colab": {
          "base_uri": "https://localhost:8080/"
        },
        "id": "aGtuVn3oSlDA",
        "outputId": "f04fce1e-901c-4009-d3f3-7aa1eb9d517c"
      },
      "outputs": [
        {
          "output_type": "stream",
          "name": "stdout",
          "text": [
            "/content/drive/MyDrive/dataset\n"
          ]
        }
      ],
      "source": [
        "%cd /content/drive/MyDrive/dataset/"
      ]
    },
    {
      "cell_type": "code",
      "execution_count": 4,
      "metadata": {
        "colab": {
          "base_uri": "https://localhost:8080/"
        },
        "id": "-sdzxS_xTzcz",
        "outputId": "e96ab2b8-6aba-4552-e5bd-3a992a94ad28"
      },
      "outputs": [
        {
          "output_type": "stream",
          "name": "stdout",
          "text": [
            "Collecting simplejson\n",
            "  Downloading simplejson-3.19.2-cp310-cp310-manylinux_2_5_x86_64.manylinux1_x86_64.manylinux_2_17_x86_64.manylinux2014_x86_64.whl (137 kB)\n",
            "\u001b[?25l     \u001b[90m━━━━━━━━━━━━━━━━━━━━━━━━━━━━━━━━━━━━━━━━\u001b[0m \u001b[32m0.0/137.9 kB\u001b[0m \u001b[31m?\u001b[0m eta \u001b[36m-:--:--\u001b[0m\r\u001b[2K     \u001b[91m━━━━━━━━━━━━━━━━━━━━\u001b[0m\u001b[91m╸\u001b[0m\u001b[90m━━━━━━━━━━━━━━━━━━━\u001b[0m \u001b[32m71.7/137.9 kB\u001b[0m \u001b[31m2.0 MB/s\u001b[0m eta \u001b[36m0:00:01\u001b[0m\r\u001b[2K     \u001b[90m━━━━━━━━━━━━━━━━━━━━━━━━━━━━━━━━━━━━━━━━\u001b[0m \u001b[32m137.9/137.9 kB\u001b[0m \u001b[31m2.7 MB/s\u001b[0m eta \u001b[36m0:00:00\u001b[0m\n",
            "\u001b[?25hInstalling collected packages: simplejson\n",
            "Successfully installed simplejson-3.19.2\n"
          ]
        }
      ],
      "source": [
        "import time\n",
        "import requests\n",
        "!pip install simplejson\n",
        "import simplejson as json\n",
        "import pandas as pd"
      ]
    },
    {
      "cell_type": "markdown",
      "metadata": {
        "id": "UJQCFX5ZvtVj"
      },
      "source": [
        "# Cleaning"
      ]
    },
    {
      "cell_type": "code",
      "execution_count": 5,
      "metadata": {
        "id": "7n5y9i4mvtVk"
      },
      "outputs": [],
      "source": [
        "input = \"addresses.csv\"\n",
        "headerOfCol = \"Dropoff Address\"\n",
        "output = \"latlongcoordinates.csv\""
      ]
    },
    {
      "cell_type": "code",
      "source": [
        "data = pd.read_csv(input, dtype=str, encoding = 'latin-1')"
      ],
      "metadata": {
        "id": "0lFJwh_s1aSD"
      },
      "execution_count": 6,
      "outputs": []
    },
    {
      "cell_type": "code",
      "source": [
        "# Extracts the postal code from the address\n",
        "\n",
        "data['Postal Code'] = data[headerOfCol].str.extract(r'(\\d{6})')\n",
        "data['Postal Code'] = pd.to_numeric(data['Postal Code'])"
      ],
      "metadata": {
        "id": "o1LI5ZV63LK5"
      },
      "execution_count": 7,
      "outputs": []
    },
    {
      "cell_type": "code",
      "source": [
        "# Output for cleaning\n",
        "\n",
        "data.to_csv(output, index = False)"
      ],
      "metadata": {
        "id": "HWfu2XMC6Tbp"
      },
      "execution_count": 8,
      "outputs": []
    },
    {
      "cell_type": "markdown",
      "source": [
        "### Download the file from Google Drive, fill in the missing postal codes/remove the rows and reupload the file to Google Drive"
      ],
      "metadata": {
        "id": "CqcEb2smTDAU"
      }
    },
    {
      "cell_type": "markdown",
      "source": [
        "# Geocoordinates"
      ],
      "metadata": {
        "id": "eo7y7ZXgvvuw"
      }
    },
    {
      "cell_type": "code",
      "source": [
        "input = output\n",
        "new_output = \"geocoordinates.csv\""
      ],
      "metadata": {
        "id": "vlXDKRasSrXF"
      },
      "execution_count": 9,
      "outputs": []
    },
    {
      "cell_type": "code",
      "execution_count": 10,
      "metadata": {
        "id": "QdoQBwfjrMX4"
      },
      "outputs": [],
      "source": [
        "# Read in data\n",
        "\n",
        "df_postcode=pd.read_csv(input, dtype=str, encoding = 'latin-1')\n",
        "df_postcode['Postal Code']=df_postcode['Postal Code'].astype(str)"
      ]
    },
    {
      "cell_type": "code",
      "source": [
        "# Drop first column\n",
        "\n",
        "df_postcode = df_postcode.drop(df_postcode.columns[0], axis=1)\n",
        "df_postcode = df_postcode.groupby('Postal Code').size().reset_index(name='Frequency')"
      ],
      "metadata": {
        "id": "KerJGlRWTzNP"
      },
      "execution_count": 11,
      "outputs": []
    },
    {
      "cell_type": "code",
      "execution_count": null,
      "metadata": {
        "colab": {
          "base_uri": "https://localhost:8080/"
        },
        "id": "Y2-WH0T8WDaj",
        "outputId": "5c9c8553-4c6a-4072-91fb-f267155214f0"
      },
      "outputs": [
        {
          "output_type": "stream",
          "name": "stderr",
          "text": [
            "<ipython-input-12-78e267957efa>:19: SettingWithCopyWarning: \n",
            "A value is trying to be set on a copy of a slice from a DataFrame\n",
            "\n",
            "See the caveats in the documentation: https://pandas.pydata.org/pandas-docs/stable/user_guide/indexing.html#returning-a-view-versus-a-copy\n",
            "  df_postcode['OnemapLongitude'][i]=float('nan')\n",
            "<ipython-input-12-78e267957efa>:20: SettingWithCopyWarning: \n",
            "A value is trying to be set on a copy of a slice from a DataFrame\n",
            "\n",
            "See the caveats in the documentation: https://pandas.pydata.org/pandas-docs/stable/user_guide/indexing.html#returning-a-view-versus-a-copy\n",
            "  df_postcode['OnemapLatitude'][i]=float('nan')\n"
          ]
        }
      ],
      "source": [
        "# For loop to send postal codes to OneMAP API\n",
        "# Input: Postal Codes as string format\n",
        "# Output: Longitude and Latitude coordinates\n",
        "\n",
        "for i in range(len(df_postcode)):\n",
        "    if len(str(df_postcode['Postal Code'][i]))==5:\n",
        "        df_postcode['Postal Code'][i]='0'+df_postcode['Postal Code'][i]\n",
        "df_postcode['OnemapLongitude'] = pd.Series(0, index=df_postcode.index)\n",
        "df_postcode['OnemapLatitude'] = pd.Series(0, index=df_postcode.index)\n",
        "\n",
        "start=time.time()\n",
        "for i in range(len(df_postcode)):\n",
        "    req=requests.get('https://developers.onemap.sg/commonapi/search?searchVal='+df_postcode['Postal Code'][i]+'&returnGeom=Y&getAddrDetails=Y&pageNum=1')\n",
        "    jdata = json.loads(req.text)\n",
        "    if jdata['found']>=1:\n",
        "        df_postcode['OnemapLongitude'][i]=jdata['results'][0]['LONGITUDE']\n",
        "        df_postcode['OnemapLatitude'][i]=jdata['results'][0]['LATITUDE']\n",
        "    else:\n",
        "        df_postcode['OnemapLongitude'][i]=float('nan')\n",
        "        df_postcode['OnemapLatitude'][i]=float('nan')\n",
        "df_postcode.to_csv(new_output, index = False)\n",
        "print('Time Taken:',time.time()-start)"
      ]
    }
  ],
  "metadata": {
    "colab": {
      "provenance": [],
      "toc_visible": true
    },
    "kernelspec": {
      "display_name": "Python 3 (ipykernel)",
      "language": "python",
      "name": "python3"
    },
    "language_info": {
      "codemirror_mode": {
        "name": "ipython",
        "version": 3
      },
      "file_extension": ".py",
      "mimetype": "text/x-python",
      "name": "python",
      "nbconvert_exporter": "python",
      "pygments_lexer": "ipython3",
      "version": "3.10.9"
    }
  },
  "nbformat": 4,
  "nbformat_minor": 0
}
