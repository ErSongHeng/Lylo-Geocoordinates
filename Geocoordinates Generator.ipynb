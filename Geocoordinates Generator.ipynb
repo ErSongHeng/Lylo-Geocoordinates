{
 "cells": [
  {
   "cell_type": "markdown",
   "metadata": {},
   "source": [
    "# Mount drive and install packages"
   ]
  },
  {
   "cell_type": "code",
   "execution_count": 1,
   "metadata": {
    "id": "L8fjpfy0SQ4R"
   },
   "outputs": [],
   "source": [
    "from google.colab import drive"
   ]
  },
  {
   "cell_type": "code",
   "execution_count": 9,
   "metadata": {
    "colab": {
     "base_uri": "https://localhost:8080/"
    },
    "id": "nxuaxxkBSaIo",
    "outputId": "ac4e69bb-3838-46ef-f67a-661182bb0cde"
   },
   "outputs": [
    {
     "name": "stdout",
     "output_type": "stream",
     "text": [
      "Mounted at /content/drive\n"
     ]
    }
   ],
   "source": [
    "drive.mount('/content/drive')"
   ]
  },
  {
   "cell_type": "code",
   "execution_count": 10,
   "metadata": {
    "colab": {
     "base_uri": "https://localhost:8080/"
    },
    "id": "aGtuVn3oSlDA",
    "outputId": "3e65163b-fd8c-4e67-a972-24a757e943ec"
   },
   "outputs": [
    {
     "name": "stdout",
     "output_type": "stream",
     "text": [
      "/content/drive/MyDrive/dataset\n"
     ]
    }
   ],
   "source": [
    "%cd /content/drive/MyDrive/dataset/"
   ]
  },
  {
   "cell_type": "code",
   "execution_count": 35,
   "metadata": {
    "colab": {
     "base_uri": "https://localhost:8080/"
    },
    "id": "-sdzxS_xTzcz",
    "outputId": "071ad939-21c4-4842-d61d-d3930be0c298"
   },
   "outputs": [
    {
     "name": "stdout",
     "output_type": "stream",
     "text": [
      "Looking in indexes: https://pypi.org/simple, https://us-python.pkg.dev/colab-wheels/public/simple/\n",
      "Requirement already satisfied: simplejson in /usr/local/lib/python3.10/dist-packages (3.19.1)\n"
     ]
    }
   ],
   "source": [
    "import time\n",
    "import requests\n",
    "!pip install simplejson\n",
    "import simplejson as json\n",
    "import pandas as pd"
   ]
  },
  {
   "cell_type": "markdown",
   "metadata": {},
   "source": [
    "# Name input file and output file below"
   ]
  },
  {
   "cell_type": "code",
   "execution_count": null,
   "metadata": {},
   "outputs": [],
   "source": [
    "filename = \"postalcodes2.csv\"\n",
    "output = \"latlongcoordinates.csv\""
   ]
  },
  {
   "cell_type": "code",
   "execution_count": 63,
   "metadata": {
    "id": "QdoQBwfjrMX4"
   },
   "outputs": [],
   "source": [
    "# Read in data, but removed the Maybank row because unable to find the postal code for just 'Maybank'\n",
    "\n",
    "df_postcode=pd.read_csv(filename, dtype=str, encoding = 'latin-1')"
   ]
  },
  {
   "cell_type": "code",
   "execution_count": 64,
   "metadata": {
    "colab": {
     "base_uri": "https://localhost:8080/"
    },
    "id": "Y2-WH0T8WDaj",
    "outputId": "010ce031-84db-4675-c2ff-6800b527f6b6"
   },
   "outputs": [
    {
     "name": "stderr",
     "output_type": "stream",
     "text": [
      "<ipython-input-64-525b0bc44c93>:16: SettingWithCopyWarning: \n",
      "A value is trying to be set on a copy of a slice from a DataFrame\n",
      "\n",
      "See the caveats in the documentation: https://pandas.pydata.org/pandas-docs/stable/user_guide/indexing.html#returning-a-view-versus-a-copy\n",
      "  df_postcode['OnemapLongitude'][i]=jdata['results'][0]['LONGITUDE']\n",
      "<ipython-input-64-525b0bc44c93>:17: SettingWithCopyWarning: \n",
      "A value is trying to be set on a copy of a slice from a DataFrame\n",
      "\n",
      "See the caveats in the documentation: https://pandas.pydata.org/pandas-docs/stable/user_guide/indexing.html#returning-a-view-versus-a-copy\n",
      "  df_postcode['OnemapLatitude'][i]=jdata['results'][0]['LATITUDE']\n"
     ]
    },
    {
     "name": "stdout",
     "output_type": "stream",
     "text": [
      "Time Taken: 287.6481714248657\n"
     ]
    }
   ],
   "source": [
    "# For loop to send postal codes to OneMAP API\n",
    "# Input: Postal Codes as string format\n",
    "# Output: Longitude and Latitude coordinates\n",
    "\n",
    "for i in range(len(df_postcode)):\n",
    "    if len(str(df_postcode['Postal Code'][i]))==5:\n",
    "        df_postcode['Postal Code'][i]='0'+df_postcode['Postal Code'][i]\n",
    "df_postcode['OnemapLongitude'] = pd.Series(0, index=df_postcode.index)\n",
    "df_postcode['OnemapLatitude'] = pd.Series(0, index=df_postcode.index)       \n",
    "\n",
    "start=time.time()\n",
    "for i in range(len(df_postcode)):\n",
    "    req=requests.get('https://developers.onemap.sg/commonapi/search?searchVal='+df_postcode['Postal Code'][i]+'&returnGeom=Y&getAddrDetails=Y&pageNum=1')\n",
    "    jdata = json.loads(req.text)\n",
    "    if jdata['found']>=1:\n",
    "        df_postcode['OnemapLongitude'][i]=jdata['results'][0]['LONGITUDE']\n",
    "        df_postcode['OnemapLatitude'][i]=jdata['results'][0]['LATITUDE']\n",
    "    else:\n",
    "        df_postcode['OnemapLongitude'][i]=float('nan')\n",
    "        df_postcode['OnemapLatitude'][i]=float('nan')\n",
    "df_postcode.to_csv(output)\n",
    "print('Time Taken:',time.time()-start)"
   ]
  }
 ],
 "metadata": {
  "colab": {
   "provenance": []
  },
  "kernelspec": {
   "display_name": "Python 3 (ipykernel)",
   "language": "python",
   "name": "python3"
  },
  "language_info": {
   "codemirror_mode": {
    "name": "ipython",
    "version": 3
   },
   "file_extension": ".py",
   "mimetype": "text/x-python",
   "name": "python",
   "nbconvert_exporter": "python",
   "pygments_lexer": "ipython3",
   "version": "3.10.9"
  }
 },
 "nbformat": 4,
 "nbformat_minor": 1
}
